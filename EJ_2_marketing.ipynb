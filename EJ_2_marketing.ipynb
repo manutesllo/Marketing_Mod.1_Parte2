{
 "cells": [
  {
   "cell_type": "markdown",
   "metadata": {},
   "source": [
    "# EJERCICIO 2 - Marketing"
   ]
  },
  {
   "cell_type": "markdown",
   "metadata": {},
   "source": [
    "### Datos de Marketing\n",
    "##### Se propone un archivo CSV (datos_marketing.csv) de 2240 filas (clientes) con 28 columnas relacionadas con datos de marketing.\n",
    "##### Columnas:\n",
    "- id: Identificador único del cliente (Considerada como la primary-key).\n",
    "\n",
    "- Year_Birth: Año de nacimiento del cliente.\n",
    "\n",
    "- Education: Nivel de educación del cliente.\n",
    "\n",
    "- Marital_Status: Estado civil del cliente.\n",
    "\n",
    "- Income: Ingreso familiar anual del cliente.\n",
    "\n",
    "- Kidhome: Número de niños en el hogar del cliente.\n",
    "\n",
    "- Teenhome: Número de adolescentes en el hogar del cliente.\n",
    "\n",
    "- Dt_Customer: Fecha de alta del cliente en la plataforma de compras.\n",
    "\n",
    "- Recency: Frescura del cliente, número de días desde la última compra del cliente,\n",
    "\n",
    "- MntWines: Cantidad gastada en vino en los últimos 2 años.\n",
    "\n",
    "- MntMeatProducts: Cantidad gastada en carne en los últimos 2 años.\n",
    "\n",
    "- MntFishProducts: Cantidad gastada en pescado en los últimos 2 años.\n",
    "\n",
    "- MntSweetProducts: Cantidad gastada en dulces en los últimos 2 años.\n",
    "\n",
    "- MntSweetProducts: Cantidad gastada en dulces en los últimos 2 años.\n",
    "\n",
    "- MntSweetProducts: Cantidad gastada en oro en los últimos 2 años.\n",
    "\n",
    "- NumDealsPurchases: Número de compras con descuentos.\n",
    "\n",
    "- NumWebPurchases: Número de compras realizadas a través de la web de la empresa.\n",
    "\n",
    "- NumWebPurchases: Número de compras realizadas a través del catálogo de la empresa.\n",
    "\n",
    "- NumStorePurchases: Número de compras realizadas en la tienda de la empresa.\n",
    "\n",
    "- NumStorePurchases: Número de visitas a la web de la empresa en el último mes.\n",
    "\n",
    "- AcceptedCmp1: 1 si el cliente ha aceptado la oferta en la primera campaña que se le ha realizado. En caso contrario 0.\n",
    "\n",
    "- AcceptedCmp2: 1 si el cliente ha aceptado la oferta en la segunda campaña que se le ha realizado. En caso contrario 0.\n",
    "\n",
    "- AcceptedCmp3: 1 si el cliente ha aceptado la oferta en la tercera campaña que se le ha realizado. En caso contrario 0.\n",
    "\n",
    "- AcceptedCmp4: 1 si el cliente ha aceptado la oferta en la cuarta campaña que se le ha realizado. En caso contrario 0.\n",
    "\n",
    "- AcceptedCmp5: 1 si el cliente ha aceptado la oferta en la quinta campaña que se le ha realizado. En caso contrario 0.\n",
    "\n",
    "- Response: 1 si el cliente ha aceptado la oferta en la última campaña que se le ha realizado. En caso contrario 0.\n",
    "\n",
    "- Complain: 1 si el cliente ha realizado alguna queja en los últimos 2 años. En caso contrario 0.\n",
    "\n",
    "- Country: Localización del cliente.\n"
   ]
  },
  {
   "cell_type": "markdown",
   "metadata": {},
   "source": [
    "## Introducción"
   ]
  },
  {
   "cell_type": "markdown",
   "metadata": {},
   "source": [
    "##### Vamos a ponernos en realizar un (roleplay) de analista de datos. El equipo de ventas y marketing nos ha pedido que las campañas de marketing recientes no han sido tan eficaces como se esperaba. Debemos analizar el conjunto de datos para comprender este problema y proponer soluciones basadas en datos."
   ]
  },
  {
   "cell_type": "markdown",
   "metadata": {},
   "source": [
    "## Tareas"
   ]
  },
  {
   "cell_type": "markdown",
   "metadata": {},
   "source": [
    "##### - ¿Hay valores nulos o valores atípicos? ¿Cómo los disputará/manejará?\n",
    "##### - ¿Hay alguna variable que justifique las transformaciones?\n",
    "##### - ¿Hay alguna variable útil que pueda diseñar con los datos proporcionados?\n",
    "##### - ¿Notas algún patrón o anomalía en los datos?\n",
    "##### - ¿Puede representarlo graficamente? (Aquí os ayudaremos)"
   ]
  },
  {
   "cell_type": "markdown",
   "metadata": {},
   "source": [
    "### Importación de librerías"
   ]
  },
  {
   "cell_type": "code",
   "execution_count": 2,
   "metadata": {},
   "outputs": [],
   "source": [
    "import pandas as pd\n",
    "import numpy as np\n",
    "import matplotlib.pyplot as plt\n",
    "import seaborn as sns\n",
    "import plotly as px\n",
    "import plotly.express as px "
   ]
  },
  {
   "cell_type": "markdown",
   "metadata": {},
   "source": [
    "### Leer Dataset"
   ]
  },
  {
   "cell_type": "code",
   "execution_count": 3,
   "metadata": {},
   "outputs": [],
   "source": [
    "df = pd.read_csv(\"datos_marketing.csv\")\n"
   ]
  },
  {
   "cell_type": "code",
   "execution_count": 4,
   "metadata": {},
   "outputs": [
    {
     "data": {
      "text/html": [
       "<div>\n",
       "<style scoped>\n",
       "    .dataframe tbody tr th:only-of-type {\n",
       "        vertical-align: middle;\n",
       "    }\n",
       "\n",
       "    .dataframe tbody tr th {\n",
       "        vertical-align: top;\n",
       "    }\n",
       "\n",
       "    .dataframe thead th {\n",
       "        text-align: right;\n",
       "    }\n",
       "</style>\n",
       "<table border=\"1\" class=\"dataframe\">\n",
       "  <thead>\n",
       "    <tr style=\"text-align: right;\">\n",
       "      <th></th>\n",
       "      <th>ID</th>\n",
       "      <th>Year_Birth</th>\n",
       "      <th>Education</th>\n",
       "      <th>Marital_Status</th>\n",
       "      <th>Income</th>\n",
       "      <th>Kidhome</th>\n",
       "      <th>Teenhome</th>\n",
       "      <th>Dt_Customer</th>\n",
       "      <th>Recency</th>\n",
       "      <th>MntWines</th>\n",
       "      <th>...</th>\n",
       "      <th>NumStorePurchases</th>\n",
       "      <th>NumWebVisitsMonth</th>\n",
       "      <th>AcceptedCmp3</th>\n",
       "      <th>AcceptedCmp4</th>\n",
       "      <th>AcceptedCmp5</th>\n",
       "      <th>AcceptedCmp1</th>\n",
       "      <th>AcceptedCmp2</th>\n",
       "      <th>Response</th>\n",
       "      <th>Complain</th>\n",
       "      <th>Country</th>\n",
       "    </tr>\n",
       "  </thead>\n",
       "  <tbody>\n",
       "    <tr>\n",
       "      <th>0</th>\n",
       "      <td>1826</td>\n",
       "      <td>1970</td>\n",
       "      <td>Graduation</td>\n",
       "      <td>Divorced</td>\n",
       "      <td>$84,835.00</td>\n",
       "      <td>0</td>\n",
       "      <td>0</td>\n",
       "      <td>6/16/14</td>\n",
       "      <td>0</td>\n",
       "      <td>189</td>\n",
       "      <td>...</td>\n",
       "      <td>6</td>\n",
       "      <td>1</td>\n",
       "      <td>0</td>\n",
       "      <td>0</td>\n",
       "      <td>0</td>\n",
       "      <td>0</td>\n",
       "      <td>0</td>\n",
       "      <td>1</td>\n",
       "      <td>0</td>\n",
       "      <td>SP</td>\n",
       "    </tr>\n",
       "    <tr>\n",
       "      <th>1</th>\n",
       "      <td>1</td>\n",
       "      <td>1961</td>\n",
       "      <td>Graduation</td>\n",
       "      <td>Single</td>\n",
       "      <td>$57,091.00</td>\n",
       "      <td>0</td>\n",
       "      <td>0</td>\n",
       "      <td>6/15/14</td>\n",
       "      <td>0</td>\n",
       "      <td>464</td>\n",
       "      <td>...</td>\n",
       "      <td>7</td>\n",
       "      <td>5</td>\n",
       "      <td>0</td>\n",
       "      <td>0</td>\n",
       "      <td>0</td>\n",
       "      <td>0</td>\n",
       "      <td>1</td>\n",
       "      <td>1</td>\n",
       "      <td>0</td>\n",
       "      <td>CA</td>\n",
       "    </tr>\n",
       "    <tr>\n",
       "      <th>2</th>\n",
       "      <td>10476</td>\n",
       "      <td>1958</td>\n",
       "      <td>Graduation</td>\n",
       "      <td>Married</td>\n",
       "      <td>$67,267.00</td>\n",
       "      <td>0</td>\n",
       "      <td>1</td>\n",
       "      <td>5/13/14</td>\n",
       "      <td>0</td>\n",
       "      <td>134</td>\n",
       "      <td>...</td>\n",
       "      <td>5</td>\n",
       "      <td>2</td>\n",
       "      <td>0</td>\n",
       "      <td>0</td>\n",
       "      <td>0</td>\n",
       "      <td>0</td>\n",
       "      <td>0</td>\n",
       "      <td>0</td>\n",
       "      <td>0</td>\n",
       "      <td>US</td>\n",
       "    </tr>\n",
       "    <tr>\n",
       "      <th>3</th>\n",
       "      <td>1386</td>\n",
       "      <td>1967</td>\n",
       "      <td>Graduation</td>\n",
       "      <td>Together</td>\n",
       "      <td>$32,474.00</td>\n",
       "      <td>1</td>\n",
       "      <td>1</td>\n",
       "      <td>5/11/14</td>\n",
       "      <td>0</td>\n",
       "      <td>10</td>\n",
       "      <td>...</td>\n",
       "      <td>2</td>\n",
       "      <td>7</td>\n",
       "      <td>0</td>\n",
       "      <td>0</td>\n",
       "      <td>0</td>\n",
       "      <td>0</td>\n",
       "      <td>0</td>\n",
       "      <td>0</td>\n",
       "      <td>0</td>\n",
       "      <td>AUS</td>\n",
       "    </tr>\n",
       "    <tr>\n",
       "      <th>4</th>\n",
       "      <td>5371</td>\n",
       "      <td>1989</td>\n",
       "      <td>Graduation</td>\n",
       "      <td>Single</td>\n",
       "      <td>$21,474.00</td>\n",
       "      <td>1</td>\n",
       "      <td>0</td>\n",
       "      <td>4/8/14</td>\n",
       "      <td>0</td>\n",
       "      <td>6</td>\n",
       "      <td>...</td>\n",
       "      <td>2</td>\n",
       "      <td>7</td>\n",
       "      <td>1</td>\n",
       "      <td>0</td>\n",
       "      <td>0</td>\n",
       "      <td>0</td>\n",
       "      <td>0</td>\n",
       "      <td>1</td>\n",
       "      <td>0</td>\n",
       "      <td>SP</td>\n",
       "    </tr>\n",
       "    <tr>\n",
       "      <th>...</th>\n",
       "      <td>...</td>\n",
       "      <td>...</td>\n",
       "      <td>...</td>\n",
       "      <td>...</td>\n",
       "      <td>...</td>\n",
       "      <td>...</td>\n",
       "      <td>...</td>\n",
       "      <td>...</td>\n",
       "      <td>...</td>\n",
       "      <td>...</td>\n",
       "      <td>...</td>\n",
       "      <td>...</td>\n",
       "      <td>...</td>\n",
       "      <td>...</td>\n",
       "      <td>...</td>\n",
       "      <td>...</td>\n",
       "      <td>...</td>\n",
       "      <td>...</td>\n",
       "      <td>...</td>\n",
       "      <td>...</td>\n",
       "      <td>...</td>\n",
       "    </tr>\n",
       "    <tr>\n",
       "      <th>2235</th>\n",
       "      <td>10142</td>\n",
       "      <td>1976</td>\n",
       "      <td>PhD</td>\n",
       "      <td>Divorced</td>\n",
       "      <td>$66,476.00</td>\n",
       "      <td>0</td>\n",
       "      <td>1</td>\n",
       "      <td>3/7/13</td>\n",
       "      <td>99</td>\n",
       "      <td>372</td>\n",
       "      <td>...</td>\n",
       "      <td>11</td>\n",
       "      <td>4</td>\n",
       "      <td>0</td>\n",
       "      <td>0</td>\n",
       "      <td>0</td>\n",
       "      <td>0</td>\n",
       "      <td>0</td>\n",
       "      <td>0</td>\n",
       "      <td>0</td>\n",
       "      <td>US</td>\n",
       "    </tr>\n",
       "    <tr>\n",
       "      <th>2236</th>\n",
       "      <td>5263</td>\n",
       "      <td>1977</td>\n",
       "      <td>2n Cycle</td>\n",
       "      <td>Married</td>\n",
       "      <td>$31,056.00</td>\n",
       "      <td>1</td>\n",
       "      <td>0</td>\n",
       "      <td>1/22/13</td>\n",
       "      <td>99</td>\n",
       "      <td>5</td>\n",
       "      <td>...</td>\n",
       "      <td>3</td>\n",
       "      <td>8</td>\n",
       "      <td>0</td>\n",
       "      <td>0</td>\n",
       "      <td>0</td>\n",
       "      <td>0</td>\n",
       "      <td>0</td>\n",
       "      <td>0</td>\n",
       "      <td>0</td>\n",
       "      <td>SP</td>\n",
       "    </tr>\n",
       "    <tr>\n",
       "      <th>2237</th>\n",
       "      <td>22</td>\n",
       "      <td>1976</td>\n",
       "      <td>Graduation</td>\n",
       "      <td>Divorced</td>\n",
       "      <td>$46,310.00</td>\n",
       "      <td>1</td>\n",
       "      <td>0</td>\n",
       "      <td>12/3/12</td>\n",
       "      <td>99</td>\n",
       "      <td>185</td>\n",
       "      <td>...</td>\n",
       "      <td>5</td>\n",
       "      <td>8</td>\n",
       "      <td>0</td>\n",
       "      <td>0</td>\n",
       "      <td>0</td>\n",
       "      <td>0</td>\n",
       "      <td>0</td>\n",
       "      <td>0</td>\n",
       "      <td>0</td>\n",
       "      <td>SP</td>\n",
       "    </tr>\n",
       "    <tr>\n",
       "      <th>2238</th>\n",
       "      <td>528</td>\n",
       "      <td>1978</td>\n",
       "      <td>Graduation</td>\n",
       "      <td>Married</td>\n",
       "      <td>$65,819.00</td>\n",
       "      <td>0</td>\n",
       "      <td>0</td>\n",
       "      <td>11/29/12</td>\n",
       "      <td>99</td>\n",
       "      <td>267</td>\n",
       "      <td>...</td>\n",
       "      <td>10</td>\n",
       "      <td>3</td>\n",
       "      <td>0</td>\n",
       "      <td>0</td>\n",
       "      <td>0</td>\n",
       "      <td>0</td>\n",
       "      <td>0</td>\n",
       "      <td>0</td>\n",
       "      <td>0</td>\n",
       "      <td>IND</td>\n",
       "    </tr>\n",
       "    <tr>\n",
       "      <th>2239</th>\n",
       "      <td>4070</td>\n",
       "      <td>1969</td>\n",
       "      <td>PhD</td>\n",
       "      <td>Married</td>\n",
       "      <td>$94,871.00</td>\n",
       "      <td>0</td>\n",
       "      <td>2</td>\n",
       "      <td>9/1/12</td>\n",
       "      <td>99</td>\n",
       "      <td>169</td>\n",
       "      <td>...</td>\n",
       "      <td>4</td>\n",
       "      <td>7</td>\n",
       "      <td>0</td>\n",
       "      <td>1</td>\n",
       "      <td>1</td>\n",
       "      <td>0</td>\n",
       "      <td>0</td>\n",
       "      <td>1</td>\n",
       "      <td>0</td>\n",
       "      <td>CA</td>\n",
       "    </tr>\n",
       "  </tbody>\n",
       "</table>\n",
       "<p>2240 rows × 28 columns</p>\n",
       "</div>"
      ],
      "text/plain": [
       "         ID  Year_Birth   Education Marital_Status      Income   Kidhome  \\\n",
       "0      1826        1970  Graduation       Divorced  $84,835.00         0   \n",
       "1         1        1961  Graduation         Single  $57,091.00         0   \n",
       "2     10476        1958  Graduation        Married  $67,267.00         0   \n",
       "3      1386        1967  Graduation       Together  $32,474.00         1   \n",
       "4      5371        1989  Graduation         Single  $21,474.00         1   \n",
       "...     ...         ...         ...            ...          ...      ...   \n",
       "2235  10142        1976         PhD       Divorced  $66,476.00         0   \n",
       "2236   5263        1977    2n Cycle        Married  $31,056.00         1   \n",
       "2237     22        1976  Graduation       Divorced  $46,310.00         1   \n",
       "2238    528        1978  Graduation        Married  $65,819.00         0   \n",
       "2239   4070        1969         PhD        Married  $94,871.00         0   \n",
       "\n",
       "      Teenhome Dt_Customer  Recency  MntWines  ...  NumStorePurchases  \\\n",
       "0            0     6/16/14        0       189  ...                  6   \n",
       "1            0     6/15/14        0       464  ...                  7   \n",
       "2            1     5/13/14        0       134  ...                  5   \n",
       "3            1     5/11/14        0        10  ...                  2   \n",
       "4            0      4/8/14        0         6  ...                  2   \n",
       "...        ...         ...      ...       ...  ...                ...   \n",
       "2235         1      3/7/13       99       372  ...                 11   \n",
       "2236         0     1/22/13       99         5  ...                  3   \n",
       "2237         0     12/3/12       99       185  ...                  5   \n",
       "2238         0    11/29/12       99       267  ...                 10   \n",
       "2239         2      9/1/12       99       169  ...                  4   \n",
       "\n",
       "      NumWebVisitsMonth  AcceptedCmp3  AcceptedCmp4  AcceptedCmp5  \\\n",
       "0                     1             0             0             0   \n",
       "1                     5             0             0             0   \n",
       "2                     2             0             0             0   \n",
       "3                     7             0             0             0   \n",
       "4                     7             1             0             0   \n",
       "...                 ...           ...           ...           ...   \n",
       "2235                  4             0             0             0   \n",
       "2236                  8             0             0             0   \n",
       "2237                  8             0             0             0   \n",
       "2238                  3             0             0             0   \n",
       "2239                  7             0             1             1   \n",
       "\n",
       "      AcceptedCmp1  AcceptedCmp2  Response  Complain  Country  \n",
       "0                0             0         1         0       SP  \n",
       "1                0             1         1         0       CA  \n",
       "2                0             0         0         0       US  \n",
       "3                0             0         0         0      AUS  \n",
       "4                0             0         1         0       SP  \n",
       "...            ...           ...       ...       ...      ...  \n",
       "2235             0             0         0         0       US  \n",
       "2236             0             0         0         0       SP  \n",
       "2237             0             0         0         0       SP  \n",
       "2238             0             0         0         0      IND  \n",
       "2239             0             0         1         0       CA  \n",
       "\n",
       "[2240 rows x 28 columns]"
      ]
     },
     "execution_count": 4,
     "metadata": {},
     "output_type": "execute_result"
    }
   ],
   "source": [
    "df"
   ]
  },
  {
   "cell_type": "markdown",
   "metadata": {},
   "source": [
    "##### Usar comando .info() para ver información del dataset"
   ]
  },
  {
   "cell_type": "code",
   "execution_count": 5,
   "metadata": {},
   "outputs": [
    {
     "name": "stdout",
     "output_type": "stream",
     "text": [
      "<class 'pandas.core.frame.DataFrame'>\n",
      "RangeIndex: 2240 entries, 0 to 2239\n",
      "Data columns (total 28 columns):\n",
      " #   Column               Non-Null Count  Dtype \n",
      "---  ------               --------------  ----- \n",
      " 0   ID                   2240 non-null   int64 \n",
      " 1   Year_Birth           2240 non-null   int64 \n",
      " 2   Education            2240 non-null   object\n",
      " 3   Marital_Status       2240 non-null   object\n",
      " 4    Income              2216 non-null   object\n",
      " 5   Kidhome              2240 non-null   int64 \n",
      " 6   Teenhome             2240 non-null   int64 \n",
      " 7   Dt_Customer          2240 non-null   object\n",
      " 8   Recency              2240 non-null   int64 \n",
      " 9   MntWines             2240 non-null   int64 \n",
      " 10  MntFruits            2240 non-null   int64 \n",
      " 11  MntMeatProducts      2240 non-null   int64 \n",
      " 12  MntFishProducts      2240 non-null   int64 \n",
      " 13  MntSweetProducts     2240 non-null   int64 \n",
      " 14  MntGoldProds         2240 non-null   int64 \n",
      " 15  NumDealsPurchases    2240 non-null   int64 \n",
      " 16  NumWebPurchases      2240 non-null   int64 \n",
      " 17  NumCatalogPurchases  2240 non-null   int64 \n",
      " 18  NumStorePurchases    2240 non-null   int64 \n",
      " 19  NumWebVisitsMonth    2240 non-null   int64 \n",
      " 20  AcceptedCmp3         2240 non-null   int64 \n",
      " 21  AcceptedCmp4         2240 non-null   int64 \n",
      " 22  AcceptedCmp5         2240 non-null   int64 \n",
      " 23  AcceptedCmp1         2240 non-null   int64 \n",
      " 24  AcceptedCmp2         2240 non-null   int64 \n",
      " 25  Response             2240 non-null   int64 \n",
      " 26  Complain             2240 non-null   int64 \n",
      " 27  Country              2240 non-null   object\n",
      "dtypes: int64(23), object(5)\n",
      "memory usage: 490.1+ KB\n",
      "None\n"
     ]
    }
   ],
   "source": [
    "\n",
    "\n",
    "# Cargar datos\n",
    "data = pd.read_csv('datos_marketing.csv')\n",
    "\n",
    "# Mostrar información del dataset\n",
    "print(data.info())\n"
   ]
  },
  {
   "cell_type": "markdown",
   "metadata": {},
   "source": [
    "#### Tratamiento de la columna \"income\".\n",
    "##### Trate la columna:\n",
    "\n",
    "- Eliminando el espacio del nombre de la columna. Puede usar la función replace.\n",
    "- Quite el símbolo del dolar. Puede usar la función replace.\n",
    "- Cambie la columna al tipo float. Puede usar la función astype(...)"
   ]
  },
  {
   "cell_type": "code",
   "execution_count": 6,
   "metadata": {},
   "outputs": [
    {
     "name": "stdout",
     "output_type": "stream",
     "text": [
      "0    84835.0\n",
      "1    57091.0\n",
      "2    67267.0\n",
      "3    32474.0\n",
      "4    21474.0\n",
      "Name: Income, dtype: float64\n"
     ]
    }
   ],
   "source": [
    "\n",
    "# Tratar la columna 'Income'\n",
    "data.rename(columns={' Income ':'Income'}, inplace=True)  # Eliminar espacio del nombre de la columna\n",
    "data['Income'] = data['Income'].str.replace('$', '').str.replace(',', '').astype(float)  # Eliminar símbolo del dolar y cambiar al tipo float\n",
    "\n",
    "# Verificar los cambios\n",
    "print(data['Income'].head())\n"
   ]
  },
  {
   "cell_type": "code",
   "execution_count": 7,
   "metadata": {},
   "outputs": [
    {
     "name": "stdout",
     "output_type": "stream",
     "text": [
      "      ID  Year_Birth   Education Marital_Status   Income  Kidhome  Teenhome  \\\n",
      "0   1826        1970  Graduation       Divorced  84835.0        0         0   \n",
      "1      1        1961  Graduation         Single  57091.0        0         0   \n",
      "2  10476        1958  Graduation        Married  67267.0        0         1   \n",
      "3   1386        1967  Graduation       Together  32474.0        1         1   \n",
      "4   5371        1989  Graduation         Single  21474.0        1         0   \n",
      "\n",
      "  Dt_Customer  Recency  MntWines  ...  NumStorePurchases  NumWebVisitsMonth  \\\n",
      "0     6/16/14        0       189  ...                  6                  1   \n",
      "1     6/15/14        0       464  ...                  7                  5   \n",
      "2     5/13/14        0       134  ...                  5                  2   \n",
      "3     5/11/14        0        10  ...                  2                  7   \n",
      "4      4/8/14        0         6  ...                  2                  7   \n",
      "\n",
      "   AcceptedCmp3  AcceptedCmp4  AcceptedCmp5  AcceptedCmp1  AcceptedCmp2  \\\n",
      "0             0             0             0             0             0   \n",
      "1             0             0             0             0             1   \n",
      "2             0             0             0             0             0   \n",
      "3             0             0             0             0             0   \n",
      "4             1             0             0             0             0   \n",
      "\n",
      "   Response  Complain  Country  \n",
      "0         1         0       SP  \n",
      "1         1         0       CA  \n",
      "2         0         0       US  \n",
      "3         0         0      AUS  \n",
      "4         1         0       SP  \n",
      "\n",
      "[5 rows x 28 columns]\n"
     ]
    }
   ],
   "source": [
    "# Verificar los cambios\n",
    "print(data.head())"
   ]
  },
  {
   "cell_type": "markdown",
   "metadata": {},
   "source": [
    "### Valores Nulos\n",
    "#### Empecemos mirando los valores nulos de las columnas.\n",
    "##### - Identifique el número de valores nulos en cada columna.\n",
    "##### - Use el comando isnull() y la combinación de isnull() y sum() para lograrlo.\n"
   ]
  },
  {
   "cell_type": "code",
   "execution_count": 8,
   "metadata": {},
   "outputs": [
    {
     "name": "stdout",
     "output_type": "stream",
     "text": [
      "ID                      0\n",
      "Year_Birth              0\n",
      "Education               0\n",
      "Marital_Status          0\n",
      "Income                 24\n",
      "Kidhome                 0\n",
      "Teenhome                0\n",
      "Dt_Customer             0\n",
      "Recency                 0\n",
      "MntWines                0\n",
      "MntFruits               0\n",
      "MntMeatProducts         0\n",
      "MntFishProducts         0\n",
      "MntSweetProducts        0\n",
      "MntGoldProds            0\n",
      "NumDealsPurchases       0\n",
      "NumWebPurchases         0\n",
      "NumCatalogPurchases     0\n",
      "NumStorePurchases       0\n",
      "NumWebVisitsMonth       0\n",
      "AcceptedCmp3            0\n",
      "AcceptedCmp4            0\n",
      "AcceptedCmp5            0\n",
      "AcceptedCmp1            0\n",
      "AcceptedCmp2            0\n",
      "Response                0\n",
      "Complain                0\n",
      "Country                 0\n",
      "dtype: int64\n"
     ]
    }
   ],
   "source": [
    "# Identificar el número de valores nulos en cada columna\n",
    "null_counts = data.isnull().sum()\n",
    "\n",
    "# Mostrar los resultados\n",
    "print(null_counts)"
   ]
  },
  {
   "cell_type": "markdown",
   "metadata": {},
   "source": [
    "##### A continuación use el siguiente código para representar la columna 'Income' y trate de ver qué ocurre."
   ]
  },
  {
   "cell_type": "code",
   "execution_count": 9,
   "metadata": {},
   "outputs": [
    {
     "name": "stderr",
     "output_type": "stream",
     "text": [
      "c:\\Users\\franc\\AppData\\Local\\Programs\\Python\\Python311\\Lib\\site-packages\\seaborn\\_oldcore.py:1498: FutureWarning: is_categorical_dtype is deprecated and will be removed in a future version. Use isinstance(dtype, CategoricalDtype) instead\n",
      "  if pd.api.types.is_categorical_dtype(vector):\n",
      "c:\\Users\\franc\\AppData\\Local\\Programs\\Python\\Python311\\Lib\\site-packages\\seaborn\\_oldcore.py:1119: FutureWarning: use_inf_as_na option is deprecated and will be removed in a future version. Convert inf values to NaN before operating instead.\n",
      "  with pd.option_context('mode.use_inf_as_na', True):\n"
     ]
    },
    {
     "data": {
      "image/png": "[encoded data removed]",
      "text/plain": [
       "<Figure size 1600x800 with 1 Axes>"
      ]
     },
     "metadata": {},
     "output_type": "display_data"
    }
   ],
   "source": [
    "# establecer el tamaño de la figura del gráfico.\n",
    "plt.figure(figsize=(16, 8))\n",
    "\n",
    "# trazar el histograma de la columna 'Income', asegurándonos de excluir los valores nulos con dropna().\n",
    "sns.histplot(data['Income'].dropna())\n",
    "\n",
    "# Agregamos un título al gráfico \n",
    "plt.title('Distribucion de la columna \"Income\"', size=20)\n",
    "\n",
    "# etiquetas adecuadas en los ejes.\n",
    "plt.ylabel('Conteo')\n",
    "\n",
    "# mostrar el gráfico.\n",
    "plt.show()"
   ]
  },
  {
   "cell_type": "markdown",
   "metadata": {},
   "source": [
    "#### Rellene los valores nulos\n",
    "##### Usar la mediana de la columna para rellenar valores nulos, se calcula mediante '.median()'"
   ]
  },
  {
   "cell_type": "code",
   "execution_count": 10,
   "metadata": {},
   "outputs": [
    {
     "name": "stdout",
     "output_type": "stream",
     "text": [
      "La mediana de la columna 'Income' es: 51381.5\n"
     ]
    }
   ],
   "source": [
    "# Calcular la mediana de la columna 'Income'\n",
    "median_income = data['Income'].median()\n",
    "\n",
    "# Imprimir el valor de la mediana\n",
    "print(f\"La mediana de la columna 'Income' es: {median_income}\")"
   ]
  },
  {
   "cell_type": "code",
   "execution_count": 11,
   "metadata": {},
   "outputs": [
    {
     "name": "stdout",
     "output_type": "stream",
     "text": [
      "0    84835.0\n",
      "1    57091.0\n",
      "2    67267.0\n",
      "3    32474.0\n",
      "4    21474.0\n",
      "Name: Income, dtype: float64\n"
     ]
    }
   ],
   "source": [
    "# Rellenar valores nulos con la mediana de la columna 'Income'\n",
    "data['Income'].fillna(median_income, inplace=True)\n",
    "\n",
    "# Verificar los cambios\n",
    "print(data['Income'].head())"
   ]
  },
  {
   "cell_type": "markdown",
   "metadata": {},
   "source": [
    "#### ¿Requiere alguna columna de realizar una transformación?\n",
    "##### - Mire la columna Dt_Customer. Cambie el tipo de columna a Datetime.\n",
    "##### - Puede usar la función to_datetime()."
   ]
  },
  {
   "cell_type": "code",
   "execution_count": 12,
   "metadata": {},
   "outputs": [
    {
     "name": "stderr",
     "output_type": "stream",
     "text": [
      "C:\\Users\\franc\\AppData\\Local\\Temp\\ipykernel_18688\\83083804.py:2: UserWarning: Could not infer format, so each element will be parsed individually, falling back to `dateutil`. To ensure parsing is consistent and as-expected, please specify a format.\n",
      "  data['Dt_Customer'] = pd.to_datetime(data['Dt_Customer'])\n"
     ]
    },
    {
     "name": "stdout",
     "output_type": "stream",
     "text": [
      "<class 'pandas.core.frame.DataFrame'>\n",
      "RangeIndex: 2240 entries, 0 to 2239\n",
      "Data columns (total 28 columns):\n",
      " #   Column               Non-Null Count  Dtype         \n",
      "---  ------               --------------  -----         \n",
      " 0   ID                   2240 non-null   int64         \n",
      " 1   Year_Birth           2240 non-null   int64         \n",
      " 2   Education            2240 non-null   object        \n",
      " 3   Marital_Status       2240 non-null   object        \n",
      " 4   Income               2240 non-null   float64       \n",
      " 5   Kidhome              2240 non-null   int64         \n",
      " 6   Teenhome             2240 non-null   int64         \n",
      " 7   Dt_Customer          2240 non-null   datetime64[ns]\n",
      " 8   Recency              2240 non-null   int64         \n",
      " 9   MntWines             2240 non-null   int64         \n",
      " 10  MntFruits            2240 non-null   int64         \n",
      " 11  MntMeatProducts      2240 non-null   int64         \n",
      " 12  MntFishProducts      2240 non-null   int64         \n",
      " 13  MntSweetProducts     2240 non-null   int64         \n",
      " 14  MntGoldProds         2240 non-null   int64         \n",
      " 15  NumDealsPurchases    2240 non-null   int64         \n",
      " 16  NumWebPurchases      2240 non-null   int64         \n",
      " 17  NumCatalogPurchases  2240 non-null   int64         \n",
      " 18  NumStorePurchases    2240 non-null   int64         \n",
      " 19  NumWebVisitsMonth    2240 non-null   int64         \n",
      " 20  AcceptedCmp3         2240 non-null   int64         \n",
      " 21  AcceptedCmp4         2240 non-null   int64         \n",
      " 22  AcceptedCmp5         2240 non-null   int64         \n",
      " 23  AcceptedCmp1         2240 non-null   int64         \n",
      " 24  AcceptedCmp2         2240 non-null   int64         \n",
      " 25  Response             2240 non-null   int64         \n",
      " 26  Complain             2240 non-null   int64         \n",
      " 27  Country              2240 non-null   object        \n",
      "dtypes: datetime64[ns](1), float64(1), int64(23), object(3)\n",
      "memory usage: 490.1+ KB\n",
      "None\n"
     ]
    }
   ],
   "source": [
    "# Cambiar el tipo de columna 'Dt_Customer' a datetime\n",
    "data['Dt_Customer'] = pd.to_datetime(data['Dt_Customer'])\n",
    "\n",
    "# Verificar los cambios\n",
    "print(data.info())"
   ]
  },
  {
   "cell_type": "markdown",
   "metadata": {},
   "source": [
    "##### Otras tareas de ingeniería de datos que podemos hacer para facilitar la vida al equipo de ventas y marketing.\n",
    "Revise una lista de los nombres de columnas a continuación, a partir de los cuales podemos crear nuevas:\n",
    "\n",
    "- Es posible crear una nueva columna con el número total de menores de edad en el hogar (nueva columna 'Dependents') a partir de la suma de 'Kidhome' y 'Teenhome'.\n",
    "\n",
    "- Es posible tener a mano el año de cuando el cliente compró por primera vez (nueva columna 'Year_Customer') partir de 'Dt_Customer'.\n",
    "\n",
    "- La cantidad total gastada (nueva columna \"TotalMnt\") se puede crear a partir de la suma de todas las columnas que contienen la palabra clave 'Mnt'.\n",
    "\n",
    "- Las compras totales (nueva columna \"TotalPurchases\") se pueden diseñar a partir de la suma de todas las columnas que contienen la palabra clave 'Purchases'.\n",
    "\n",
    "- El número total de campañas aceptadas por clientes (nueva columna 'TotalCampaignsAcc') se puede diseñar a partir de la suma de todas las columnas que contienen las palabras clave 'Cmp' y 'Response' (significa que es la última campaña)."
   ]
  },
  {
   "cell_type": "code",
   "execution_count": 13,
   "metadata": {},
   "outputs": [
    {
     "name": "stdout",
     "output_type": "stream",
     "text": [
      "Primeros registros de la nueva columna 'Dependents':\n",
      "0    0\n",
      "1    0\n",
      "2    1\n",
      "3    2\n",
      "4    1\n",
      "Name: Dependents, dtype: int64\n"
     ]
    }
   ],
   "source": [
    "# Crear la nueva columna 'Dependents' \n",
    "# Sumamos las columnas 'Kidhome' y 'Teenhome' para obtener el número total de menores de edad en el hogar y lo asignamos a una nueva columna llamada 'Dependents'.\n",
    "data['Dependents'] = data['Kidhome'] + data['Teenhome']\n",
    "\n",
    "print(\"Primeros registros de la nueva columna 'Dependents':\")\n",
    "print(data['Dependents'].head())"
   ]
  },
  {
   "cell_type": "code",
   "execution_count": 14,
   "metadata": {},
   "outputs": [],
   "source": [
    "# Crear la nueva columna 'Year_Customer'\n",
    "# Utilizamos la función pd.to_datetime() para convertir la columna 'Dt_Customer' al tipo de dato datetime y luego extraemos el año de esa fecha para crear la columna 'Year_Customer'.\n",
    "data['Year_Customer'] = pd.to_datetime(data['Dt_Customer']).dt.year"
   ]
  },
  {
   "cell_type": "code",
   "execution_count": 15,
   "metadata": {},
   "outputs": [],
   "source": [
    "# Crear la nueva columna 'TotalMnt'\n",
    "# Identificamos las columnas que contienen la palabra clave 'Mnt' utilizando una lista de comprensión y luego sumamos los valores de estas columnas a lo largo de cada fila para obtener el gasto total, \n",
    "# que luego se asigna a la nueva columna 'TotalMnt'.\n",
    "mnt_columns = [col for col in data.columns if 'Mnt' in col]\n",
    "data['TotalMnt'] = data[mnt_columns].sum(axis=1)"
   ]
  },
  {
   "cell_type": "code",
   "execution_count": 16,
   "metadata": {},
   "outputs": [],
   "source": [
    "# Crear la nueva columna 'TotalPurchases'\n",
    "#  identificamos las columnas que contienen la palabra clave 'Purchases', sumamos los valores y asignamos el total a la nueva columna 'TotalPurchases'.\n",
    "purchase_columns = [col for col in data.columns if 'Purchases' in col]\n",
    "data['TotalPurchases'] = data[purchase_columns].sum(axis=1)"
   ]
  },
  {
   "cell_type": "code",
   "execution_count": 17,
   "metadata": {},
   "outputs": [],
   "source": [
    "# Crear la nueva columna 'TotalCampaignsAcc'\n",
    "# identificamos las columnas que contienen las palabras clave 'Cmp' y 'Response', sumamos los valores y asignamos el total a la nueva columna 'TotalCampaignsAcc'.\n",
    "cmp_columns = [col for col in data.columns if 'Cmp' in col or col=='Response']\n",
    "data['TotalCampaignsAcc'] = data[cmp_columns].sum(axis=1)\n"
   ]
  },
  {
   "cell_type": "code",
   "execution_count": 18,
   "metadata": {},
   "outputs": [
    {
     "name": "stdout",
     "output_type": "stream",
     "text": [
      "      ID  Year_Birth   Education Marital_Status   Income  Kidhome  Teenhome  \\\n",
      "0   1826        1970  Graduation       Divorced  84835.0        0         0   \n",
      "1      1        1961  Graduation         Single  57091.0        0         0   \n",
      "2  10476        1958  Graduation        Married  67267.0        0         1   \n",
      "3   1386        1967  Graduation       Together  32474.0        1         1   \n",
      "4   5371        1989  Graduation         Single  21474.0        1         0   \n",
      "\n",
      "  Dt_Customer  Recency  MntWines  ...  AcceptedCmp1  AcceptedCmp2  Response  \\\n",
      "0  2014-06-16        0       189  ...             0             0         1   \n",
      "1  2014-06-15        0       464  ...             0             1         1   \n",
      "2  2014-05-13        0       134  ...             0             0         0   \n",
      "3  2014-05-11        0        10  ...             0             0         0   \n",
      "4  2014-04-08        0         6  ...             0             0         1   \n",
      "\n",
      "   Complain  Country  Dependents  Year_Customer  TotalMnt  TotalPurchases  \\\n",
      "0         0       SP           0           2014      1190              15   \n",
      "1         0       CA           0           2014       577              18   \n",
      "2         0       US           1           2014       251              11   \n",
      "3         0      AUS           2           2014        11               4   \n",
      "4         0       SP           1           2014        91               8   \n",
      "\n",
      "   TotalCampaignsAcc  \n",
      "0                  1  \n",
      "1                  2  \n",
      "2                  0  \n",
      "3                  0  \n",
      "4                  2  \n",
      "\n",
      "[5 rows x 33 columns]\n"
     ]
    }
   ],
   "source": [
    "# Verificar los cambios\n",
    "print(data.head())"
   ]
  },
  {
   "cell_type": "markdown",
   "metadata": {},
   "source": [
    "Una opción para visualizar algún dato concreto, podría ser crear un gráfico de barras que muestre, por ejemplo, la cantidad de menores y adolescentes en el hogar de los clientes en dos barras diferentes para cada cliente."
   ]
  },
  {
   "cell_type": "code",
   "execution_count": 19,
   "metadata": {},
   "outputs": [
    {
     "name": "stderr",
     "output_type": "stream",
     "text": [
      "C:\\Users\\franc\\AppData\\Roaming\\Python\\Python311\\site-packages\\IPython\\core\\pylabtools.py:152: UserWarning: Creating legend with loc=\"best\" can be slow with large amounts of data.\n",
      "  fig.canvas.print_figure(bytes_io, **kw)\n"
     ]
    },
    {
     "data": {
      "image/png": "[encoded data removed]",
      "text/plain": [
       "<Figure size 1200x800 with 1 Axes>"
      ]
     },
     "metadata": {},
     "output_type": "display_data"
    }
   ],
   "source": [
    "\n",
    "\n",
    "# Preparar datos para el gráfico\n",
    "clientes = data.index\n",
    "menores = data['Kidhome']\n",
    "adolescentes = data['Teenhome']\n",
    "\n",
    "# Crear el gráfico de barras apiladas\n",
    "plt.figure(figsize=(12, 8))\n",
    "plt.bar(clientes, menores, color='skyblue', label='Menores')\n",
    "plt.bar(clientes, adolescentes, bottom=menores, color='lightgreen', label='Adolescentes')\n",
    "\n",
    "# Agregar etiquetas y título\n",
    "plt.xlabel('Clientes', fontweight='bold', fontsize=15)\n",
    "plt.ylabel('Cantidad', fontweight='bold', fontsize=15)\n",
    "plt.title('Cantidad de menores y adolescentes en el hogar de los clientes', fontweight='bold', fontsize=15)\n",
    "plt.legend()\n",
    "\n",
    "# Mostrar el gráfico\n",
    "plt.show()\n"
   ]
  }
 ],
 "metadata": {
  "kernelspec": {
   "display_name": "mi_entorno",
   "language": "python",
   "name": "python3"
  },
  "language_info": {
   "codemirror_mode": {
    "name": "ipython",
    "version": 3
   },
   "file_extension": ".py",
   "mimetype": "text/x-python",
   "name": "python",
   "nbconvert_exporter": "python",
   "pygments_lexer": "ipython3",
   "version": "3.11.5"
  }
 },
 "nbformat": 4,
 "nbformat_minor": 2
}
